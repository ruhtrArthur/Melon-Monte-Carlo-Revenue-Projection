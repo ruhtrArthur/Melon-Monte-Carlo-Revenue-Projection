{
 "cells": [
  {
   "cell_type": "markdown",
   "metadata": {},
   "source": [
    "### Monte Carlo Profit Projection for Melon"
   ]
  },
  {
   "cell_type": "markdown",
   "metadata": {},
   "source": [
    "***\n",
    "<font size=\"2.5\">This notebook is aimed to provide a clear picture of the revenue projection of our school project, a web application which converts lyrics to melodies called Melon. The web application will assist those intimidated by the difficulty of composing in creating their original music just by simply inputting text information, preferrably lyrics. Melon will use a conditional LSTM-GAN model to generate melodies. If you are interested in the model, more information can be found at https://arxiv.org/pdf/1908.05551.pdf.\n",
    "\n",
    "<br/> I am greatly inspired by Tony Yiu's Medium post \"Business Simulations With Python\" and want to implement this revenue projection to support my business analysis. In his post, Tony provided great details about simulating the customer acquisition cost and customer lifetime value. I made assumptions specifically tailored to our business plan and adjusted Tony's function so that it can hold more granular details of Melon's revenue streams. </font>\n",
    "\n",
    "***"
   ]
  },
  {
   "cell_type": "code",
   "execution_count": 95,
   "metadata": {},
   "outputs": [],
   "source": [
    "import numpy as np\n",
    "import pandas as pd\n",
    "import random\n",
    "import matplotlib.pyplot as plt\n",
    "import seaborn as sns"
   ]
  },
  {
   "cell_type": "code",
   "execution_count": 96,
   "metadata": {},
   "outputs": [],
   "source": [
    "def get_conversion_rate(expected, stdev):\n",
    "    # Assume the actual conversion rate has a normal distribution\n",
    "    # we input expected value and standard deviation to simulate the actual values\n",
    "    # because negative conversion rate not reasonable, thus a floor for the number\n",
    "    conversion_rate = max(expected + np.random.normal()*stdev, 0.000001)\n",
    "    return conversion_rate"
   ]
  },
  {
   "cell_type": "code",
   "execution_count": 97,
   "metadata": {},
   "outputs": [],
   "source": [
    "def run_campaign(spend, cpimp, conversion_rate):\n",
    "    # cpimp is the cost per 1000 impressions we made through channels like Facebook and Google\n",
    "    return np.random.binomial(spend/cpimp*1000, conversion_rate)"
   ]
  },
  {
   "cell_type": "code",
   "execution_count": 98,
   "metadata": {},
   "outputs": [
    {
     "name": "stdout",
     "output_type": "stream",
     "text": [
      "Customers Gained:  2146\n",
      "Customer Acquisition Cost:  23\n"
     ]
    }
   ],
   "source": [
    "# here we made a bunch of assumptions that will support our analysis\n",
    "# Budget -- how much money we are willing to invest in marketing\n",
    "spend = 50000\n",
    "# Cost per thousand of ad impressions\n",
    "cpimp = 2\n",
    "# Conversion rate -- assume for 10000 impressions we get 1 customers\n",
    "conversion_rate_expected = 0.0001\n",
    "conversion_rate_stdev = 0.00005\n",
    "\n",
    "conversion_rate = get_conversion_rate(conversion_rate_expected, conversion_rate_stdev)\n",
    "cohort_size = run_campaign(spend, cpimp, conversion_rate)\n",
    "CAC = spend/cohort_size\n",
    "\n",
    "print('Customers Gained: ', cohort_size)\n",
    "print('Customer Acquisition Cost: ', int(CAC))"
   ]
  },
  {
   "cell_type": "code",
   "execution_count": 104,
   "metadata": {},
   "outputs": [],
   "source": [
    "# The number of customers our product will have across time\n",
    "# assume the quarterly plan and annual plan customer leave at the end of their subscription period\n",
    "\n",
    "\n",
    "def simulate_cohort(cohort_size_monthly_pro, cohort_size_monthly_reg,\n",
    "                    cohort_size_quarterly_pro, cohort_size_quarterly_reg,\n",
    "                    cohort_size_annually_pro, cohort_size_annually_reg,\n",
    "                    month_price_pro, month_price_reg, quarter_price_pro,\n",
    "                    quarter_price_reg, annual_price_pro, annual_price_reg,\n",
    "                    month_retention_cost_pro, month_retention_cost_reg,\n",
    "                    quarter_retention_cost_pro, quarter_retention_cost_reg,\n",
    "                    annual_retention_cost_pro, annual_retention_cost_reg,\n",
    "                    churn_rate, months=24):\n",
    "\n",
    "    month_churn = []\n",
    "    month_return = []\n",
    "    quarter_churn = []\n",
    "    quarter_return = []\n",
    "    annual_churn = []\n",
    "\n",
    "    customers = []\n",
    "    customers_left = []\n",
    "    revenue = []\n",
    "    profit = []\n",
    "    for i in range(months):\n",
    "\n",
    "        month_churn_pro = 0\n",
    "        month_churn_reg = 0\n",
    "        month_return_pro = 0\n",
    "        month_return_reg = 0\n",
    "\n",
    "        if i in list(range(months))[1:]:\n",
    "            for customer in range(cohort_size_monthly_pro):\n",
    "\n",
    "                # if the random number is less than churn_rate,\n",
    "                # we say the customer has churned and we reduce our cohort size\n",
    "                churn_random_num_monthly = np.random.random()\n",
    "\n",
    "                if churn_random_num_monthly <= churn_rate:\n",
    "                    cohort_size_monthly_pro += -1\n",
    "                    month_churn_pro += 1\n",
    "\n",
    "            for customer in range(cohort_size_monthly_reg):\n",
    "\n",
    "                churn_random_num_monthly = np.random.random()\n",
    "\n",
    "                if churn_random_num_monthly <= churn_rate:\n",
    "                    cohort_size_monthly_reg += -1\n",
    "                    month_churn_reg += 1\n",
    "\n",
    "        if i in list(range(months))[2:]:\n",
    "            for customer in range(month_churn_pro):\n",
    "                return_random_num_monthly = np.random.random()\n",
    "                if return_random_num_monthly <= return_rate:\n",
    "                    cohort_size_monthly_pro += 1\n",
    "                    month_churn_pro += -1\n",
    "                    month_return_pro += 1\n",
    "\n",
    "            for customer in range(cohort_size_monthly_reg):\n",
    "                return_random_num_monthly = np.random.random()\n",
    "                if return_random_num_monthly <= return_rate:\n",
    "                    cohort_size_monthly_reg += 1\n",
    "                    month_churn_reg += -1\n",
    "                    month_return_reg += 1\n",
    "\n",
    "        month_churn.append((month_churn_pro,  month_churn_reg))\n",
    "        month_return.append((month_return_pro, month_return_reg))\n",
    "\n",
    "        # for our quarterly customers\n",
    "        if i in list(range(3, 25, 3)):\n",
    "\n",
    "            quarter_churn_pro = 0\n",
    "            quarter_churn_reg = 0\n",
    "            quarter_return_pro = 0\n",
    "            quarter_return_reg = 0\n",
    "\n",
    "            for customer in range(cohort_size_quarterly_pro):\n",
    "                # same logic for our quarterly plan pro subscriber\n",
    "                churn_random_num_quarterly = np.random.random()\n",
    "\n",
    "                if churn_random_num_quarterly <= churn_rate:\n",
    "                    cohort_size_quarterly_pro += -1\n",
    "                    quarter_churn_pro += 1\n",
    "\n",
    "            for customer in range(cohort_size_quarterly_reg):\n",
    "                # quarterly plan regular subscriber\n",
    "                churn_random_num_quarterly = np.random.random()\n",
    "\n",
    "                if churn_random_num_quarterly <= churn_rate:\n",
    "                    cohort_size_quarterly_reg += -1\n",
    "                    quarter_churn_reg += 1\n",
    "\n",
    "            if i in list(range(3, 25, 3))[1:]:\n",
    "                for customer in range(quarter_churn_pro):\n",
    "                    # same logic for our quarterly plan pro subscriber\n",
    "                    return_random_num_quarterly = np.random.random()\n",
    "\n",
    "                    if return_random_num_quarterly <= return_rate:\n",
    "                        cohort_size_quarterly_pro += 1\n",
    "                        quarter_churn_pro += -1\n",
    "                        quarter_return_pro += 1\n",
    "\n",
    "                for customer in range(quarter_churn_reg):\n",
    "                    # same logic for our quarterly plan pro subscriber\n",
    "                    return_random_num_quarterly = np.random.random()\n",
    "\n",
    "                    if return_random_num_quarterly <= return_rate:\n",
    "                        cohort_size_quarterly_reg += 1\n",
    "                        quarter_churn_reg += -1\n",
    "                        quarter_return_reg += 1\n",
    "\n",
    "            quarter_churn.append((quarter_churn_pro,  quarter_churn_reg))\n",
    "            quarter_return.append((quarter_return_pro, quarter_return_reg))\n",
    "\n",
    "        # for our annual customers\n",
    "        if i in list(range(12, 25, 12)):\n",
    "\n",
    "            annual_churn_pro = 0\n",
    "            annual_churn_reg = 0\n",
    "\n",
    "            for customer in range(cohort_size_annually_pro):\n",
    "                # same logic for our quarterly plan subscriber\n",
    "                churn_random_num_annually = np.random.random()\n",
    "\n",
    "                if churn_random_num_annually <= churn_rate:\n",
    "                    cohort_size_annually_pro += -1\n",
    "                    annual_churn_pro += 1\n",
    "\n",
    "            for customer in range(cohort_size_annually_reg):\n",
    "                # same logic for our quarterly plan subscriber\n",
    "                churn_random_num_annually = np.random.random()\n",
    "\n",
    "                if churn_random_num_annually <= churn_rate:\n",
    "                    cohort_size_annually_reg += -1\n",
    "                    annual_churn_reg += 1\n",
    "\n",
    "            annual_churn.append((annual_churn_pro,  annual_churn_reg))\n",
    "\n",
    "        customers.append((cohort_size_monthly_pro, cohort_size_monthly_reg,\n",
    "                          cohort_size_quarterly_pro, cohort_size_quarterly_reg,\n",
    "                          cohort_size_annually_pro, cohort_size_annually_reg))\n",
    "        customers_left.append(cohort_size_monthly_pro + cohort_size_monthly_reg +\n",
    "                              cohort_size_quarterly_pro + cohort_size_quarterly_reg +\n",
    "                              cohort_size_annually_pro + cohort_size_annually_reg)\n",
    "        revenue.append(cohort_size_monthly_pro*month_price_pro +\n",
    "                       cohort_size_monthly_reg*month_price_reg +\n",
    "                       cohort_size_quarterly_pro*quarter_price_pro +\n",
    "                       cohort_size_quarterly_reg*quarter_price_reg +\n",
    "                       cohort_size_annually_pro*annual_price_pro +\n",
    "                       cohort_size_annually_reg*annual_price_reg)\n",
    "        profit.append(cohort_size_monthly_pro*(month_price_pro - month_retention_cost_pro) +\n",
    "                      cohort_size_monthly_reg*(month_price_reg - month_retention_cost_reg) +\n",
    "                      cohort_size_quarterly_pro*(quarter_price_pro - quarter_retention_cost_pro) +\n",
    "                      cohort_size_quarterly_reg*(quarter_price_reg - quarter_retention_cost_reg) +\n",
    "                      cohort_size_annually_pro*(annual_price_pro - annual_retention_cost_pro) +\n",
    "                      cohort_size_annually_reg*(annual_price_reg - annual_retention_cost_reg))\n",
    "\n",
    "    return month_return, month_churn, quarter_return, quarter_churn, annual_churn, customers, customers_left, revenue, profit\n",
    "\n"
   ]
  },
  {
   "cell_type": "markdown",
   "metadata": {},
   "source": [
    "***\n",
    "In our business plan, we aim to provide a one-month, three-month, and one-year subscription plan for regular users and professional users respectively\n",
    "***"
   ]
  },
  {
   "cell_type": "code",
   "execution_count": 105,
   "metadata": {},
   "outputs": [],
   "source": [
    "# Here are the assumptions we made for the projection\n",
    "cohort_size_monthly = int(cohort_size*0.6)\n",
    "cohort_size_quarterly = int(cohort_size*0.25)\n",
    "cohort_size_annually = int(cohort_size*0.15)\n",
    "cohort_size_monthly_pro = int(cohort_size_monthly*0.2)\n",
    "cohort_size_monthly_reg = int(cohort_size_monthly*0.8)\n",
    "cohort_size_quarterly_pro = int(cohort_size_quarterly*0.25)\n",
    "cohort_size_quarterly_reg = int(cohort_size_quarterly*0.75)\n",
    "cohort_size_annually_pro = int(cohort_size_annually*0.3)\n",
    "cohort_size_annually_reg = int(cohort_size_annually*0.7)\n",
    "month_price_pro = 15\n",
    "month_price_reg = 10\n",
    "quarter_price_pro = 30\n",
    "quarter_price_reg = 20\n",
    "annual_price_pro = 90\n",
    "annual_price_reg = 60\n",
    "month_retention_cost_pro = 5\n",
    "month_retention_cost_reg = 5\n",
    "quarter_retention_cost_pro = 12\n",
    "quarter_retention_cost_reg = 8\n",
    "annual_retention_cost_pro = 25\n",
    "annual_retention_cost_reg = 20\n",
    "churn_rate = 0.30\n",
    "return_rate = 0.10\n",
    "months=24"
   ]
  },
  {
   "cell_type": "code",
   "execution_count": 107,
   "metadata": {},
   "outputs": [],
   "source": [
    "month_return, month_churn, quarter_return, quarter_churn, annual_churn, customers, customers_left, revenue, profit = simulate_cohort(cohort_size_monthly_pro, cohort_size_monthly_reg, \n",
    "                    cohort_size_quarterly_pro, cohort_size_quarterly_reg, \n",
    "                    cohort_size_annually_pro, cohort_size_annually_reg,\n",
    "                    month_price_pro, month_price_reg, quarter_price_pro,\n",
    "                    quarter_price_reg, annual_price_pro, annual_price_reg,\n",
    "                    month_retention_cost_pro, month_retention_cost_reg,\n",
    "                    quarter_retention_cost_pro, quarter_retention_cost_reg,\n",
    "                    annual_retention_cost_pro, annual_retention_cost_reg,\n",
    "                    churn_rate, months=24)"
   ]
  },
  {
   "cell_type": "code",
   "execution_count": 119,
   "metadata": {},
   "outputs": [
    {
     "data": {
      "text/plain": [
       "[(0, 0), (2, 13), (3, 6), (1, 5), (1, 0), (0, 4), (0, 2)]"
      ]
     },
     "execution_count": 119,
     "metadata": {},
     "output_type": "execute_result"
    }
   ],
   "source": [
    "quarter_return"
   ]
  },
  {
   "cell_type": "code",
   "execution_count": 121,
   "metadata": {},
   "outputs": [
    {
     "data": {
      "text/plain": [
       "[(40, 112), (29, 75), (21, 62), (17, 43), (11, 35), (7, 24), (2, 15)]"
      ]
     },
     "execution_count": 121,
     "metadata": {},
     "output_type": "execute_result"
    }
   ],
   "source": [
    "quarter_churn"
   ]
  },
  {
   "cell_type": "code",
   "execution_count": 122,
   "metadata": {},
   "outputs": [
    {
     "data": {
      "text/plain": [
       "[(25, 53)]"
      ]
     },
     "execution_count": 122,
     "metadata": {},
     "output_type": "execute_result"
    }
   ],
   "source": [
    "annual_churn"
   ]
  },
  {
   "cell_type": "code",
   "execution_count": 123,
   "metadata": {},
   "outputs": [
    {
     "data": {
      "text/plain": [
       "[(40, 112), (29, 75), (21, 62), (17, 43), (11, 35), (7, 24), (2, 15)]"
      ]
     },
     "execution_count": 123,
     "metadata": {},
     "output_type": "execute_result"
    }
   ],
   "source": [
    "quarter_churn"
   ]
  },
  {
   "cell_type": "code",
   "execution_count": 124,
   "metadata": {},
   "outputs": [
    {
     "data": {
      "text/plain": [
       "[(257, 1029, 134, 402, 96, 224),\n",
       " (175, 696, 134, 402, 96, 224),\n",
       " (138, 517, 134, 402, 96, 224),\n",
       " (101, 379, 94, 290, 96, 224),\n",
       " (73, 280, 94, 290, 96, 224),\n",
       " (53, 228, 94, 290, 96, 224),\n",
       " (42, 168, 65, 215, 96, 224),\n",
       " (30, 137, 65, 215, 96, 224),\n",
       " (19, 114, 65, 215, 96, 224),\n",
       " (16, 96, 44, 153, 96, 224),\n",
       " (9, 77, 44, 153, 96, 224),\n",
       " (6, 60, 44, 153, 96, 224),\n",
       " (5, 42, 27, 110, 71, 171),\n",
       " (4, 26, 27, 110, 71, 171),\n",
       " (2, 23, 27, 110, 71, 171),\n",
       " (1, 15, 16, 75, 71, 171),\n",
       " (1, 15, 16, 75, 71, 171),\n",
       " (1, 11, 16, 75, 71, 171),\n",
       " (1, 9, 9, 51, 71, 171),\n",
       " (1, 6, 9, 51, 71, 171),\n",
       " (1, 7, 9, 51, 71, 171),\n",
       " (1, 7, 7, 36, 71, 171),\n",
       " (1, 6, 7, 36, 71, 171),\n",
       " (1, 2, 7, 36, 71, 171)]"
      ]
     },
     "execution_count": 124,
     "metadata": {},
     "output_type": "execute_result"
    }
   ],
   "source": [
    "customers"
   ]
  },
  {
   "cell_type": "code",
   "execution_count": 126,
   "metadata": {},
   "outputs": [
    {
     "name": "stdout",
     "output_type": "stream",
     "text": [
      "Total Cohort Value:  359996\n",
      "Customer Long Term Value:  167\n",
      "Customer Long Term Value - Customer Acquisition Cost Spread:  144\n"
     ]
    }
   ],
   "source": [
    "# Function to calculate the present value of a set of cashflows\n",
    "def present_value(cashflows, rate):\n",
    "    pv = []\n",
    "    for i, val in enumerate(cashflows):\n",
    "        pv.append(val/(1 + rate)**(i+1))\n",
    "    return pv\n",
    "\n",
    "# Calculate Customer Long Term Value\n",
    "# assume monthly interest rate as 0.015\n",
    "rate = 0.015\n",
    "\n",
    "# Get the PV of the profits\n",
    "pv = present_value(profit, rate)\n",
    "# Value of the cohort in today's dollars is sum of PVs\n",
    "cohort_value = sum(pv)\n",
    "\n",
    "print('Total Cohort Value: ', int(cohort_value))\n",
    "print('Customer Long Term Value: ', int(cohort_value/cohort_size))\n",
    "print('Customer Long Term Value - Customer Acquisition Cost Spread: ', int(cohort_value/cohort_size - CAC))"
   ]
  },
  {
   "cell_type": "code",
   "execution_count": 129,
   "metadata": {},
   "outputs": [
    {
     "data": {
      "text/plain": [
       "359996.39"
      ]
     },
     "execution_count": 129,
     "metadata": {},
     "output_type": "execute_result"
    }
   ],
   "source": [
    "round(cohort_value,2)"
   ]
  },
  {
   "cell_type": "code",
   "execution_count": 131,
   "metadata": {},
   "outputs": [
    {
     "data": {
      "text/plain": [
       "[29705.418719211826,\n",
       " 26854.327938071787,\n",
       " 25247.724951756805,\n",
       " 21931.22232838408,\n",
       " 20887.713842277706,\n",
       " 20158.33900747893,\n",
       " 18209.75143919822,\n",
       " 17696.521252972678,\n",
       " 17238.213054302916,\n",
       " 15913.2704354453,\n",
       " 15538.024967695706,\n",
       " 15212.214429433465,\n",
       " 11141.669292066652,\n",
       " 10903.947645880335,\n",
       " 10714.810759771837,\n",
       " 10030.059068465107,\n",
       " 9881.831594546906,\n",
       " 9720.496442698157,\n",
       " 9257.314216722732,\n",
       " 9109.369561187465,\n",
       " 8978.40582589023,\n",
       " 8690.051496461696,\n",
       " 8558.076904718559,\n",
       " 8417.611983401588]"
      ]
     },
     "execution_count": 131,
     "metadata": {},
     "output_type": "execute_result"
    }
   ],
   "source": [
    "pv"
   ]
  },
  {
   "cell_type": "markdown",
   "metadata": {},
   "source": [
    "***\n",
    "Assume we only performed one marketing campaign and do not conduct additional campaigns in this two year period.\n",
    "***"
   ]
  },
  {
   "cell_type": "code",
   "execution_count": 132,
   "metadata": {},
   "outputs": [
    {
     "data": {
      "image/png": "[encoded data removed]",
      "text/plain": [
       "<Figure size 792x432 with 1 Axes>"
      ]
     },
     "metadata": {
      "needs_background": "light"
     },
     "output_type": "display_data"
    }
   ],
   "source": [
    "# Bar chart for profit and its PV\n",
    "fig, ax = plt.subplots(figsize=(11,6))\n",
    "plt.bar(x=[i-0.2 for i in range(1,25)], height=profit, width=0.4, label='Profit', color='#84B4C8', align='edge')\n",
    "plt.bar(x=[i+0.2 for i in range(1,25)], height=pv, width=0.4, label='Present Value of Profit', color='#B2D9EA', align='edge')\n",
    "\n",
    "ax.set_xlabel(\"Year\",fontsize=16)\n",
    "ax.set_ylabel(\"Profits ($USD)\",fontsize=16)\n",
    "plt.legend()\n",
    "plt.tight_layout()\n",
    "\n",
    "plt.savefig(fname='profit_bar', dpi=150)\n",
    "plt.show()"
   ]
  },
  {
   "cell_type": "code",
   "execution_count": 274,
   "metadata": {},
   "outputs": [],
   "source": [
    "# Simulate 1000 times and look at the distributions\n",
    "\n",
    "cohort_size_list = []\n",
    "CAC_list = []\n",
    "CLTV_list = []\n",
    "\n",
    "for i in range(1000):\n",
    "    \n",
    "    # marketing campaign conversion simulation which follows normal distribution\n",
    "    conversion_rate = get_conversion_rate(conversion_rate_expected, \n",
    "                                      conversion_rate_stdev)\n",
    "    cohort_size = run_campaign(spend, cpimp, conversion_rate)\n",
    "    CAC = spend/cohort_size\n",
    "    \n",
    "    # Simulate the resulting cohort\n",
    "    customers_left, revenue, profit = simulate_cohort(cohort_size_monthly_pro, cohort_size_monthly_reg, \n",
    "                    cohort_size_quarterly_pro, cohort_size_quarterly_reg, \n",
    "                    cohort_size_annually_pro, cohort_size_annually_reg,\n",
    "                    month_price_pro, month_price_reg, quarter_price_pro,\n",
    "                    quarter_price_reg, annual_price_pro, annual_price_reg,\n",
    "                    month_retention_cost_pro, month_retention_cost_reg,\n",
    "                    quarter_retention_cost_pro, quarter_retention_cost_reg,\n",
    "                    annual_retention_cost_pro, annual_retention_cost_reg,\n",
    "                    churn_rate, months=24)\n",
    "    \n",
    "    cohort_value = sum(present_value(profit, rate))\n",
    "    \n",
    "    cohort_size_list.append(cohort_size)\n",
    "    CAC_list.append(CAC)\n",
    "    CLTV_list.append(cohort_value/cohort_size)\n",
    "    \n",
    "# Store simulation results in a dataframe\n",
    "results_df = pd.DataFrame()\n",
    "results_df['initial_cohort_size'] = cohort_size_list\n",
    "results_df['CLTV'] = CLTV_list\n",
    "results_df['CAC'] = CAC_list\n",
    "results_df['Spread'] = results_df['CLTV'] - results_df['CAC']\n",
    "\n",
    "plot_df = results_df[results_df['CAC']<=1000]"
   ]
  },
  {
   "cell_type": "code",
   "execution_count": 275,
   "metadata": {},
   "outputs": [
    {
     "data": {
      "image/png": "[encoded data removed]",
      "text/plain": [
       "<Figure size 648x432 with 1 Axes>"
      ]
     },
     "metadata": {
      "needs_background": "light"
     },
     "output_type": "display_data"
    }
   ],
   "source": [
    "# Histogram for distribution of initial cohort size\n",
    "fig, ax = plt.subplots(figsize=(9,6))\n",
    "sns.distplot(plot_df['initial_cohort_size'], kde=False, bins=30, color='#84B4C8')\n",
    "\n",
    "ax.set_xlabel(\"Initial Cohort Size\",fontsize=16)\n",
    "ax.set_ylabel(\"Frequency\",fontsize=16)\n",
    "plt.tight_layout()\n",
    "\n",
    "plt.savefig(fname='cohort_hist', dpi=150)\n",
    "plt.show()"
   ]
  },
  {
   "cell_type": "code",
   "execution_count": 276,
   "metadata": {},
   "outputs": [
    {
     "data": {
      "image/png": "[encoded data removed]",
      "text/plain": [
       "<Figure size 648x432 with 1 Axes>"
      ]
     },
     "metadata": {
      "needs_background": "light"
     },
     "output_type": "display_data"
    }
   ],
   "source": [
    "# Histogram for distribution of initial cohort size\n",
    "fig, ax = plt.subplots(figsize=(9,6))\n",
    "sns.distplot(plot_df['CAC'], kde=False, bins=60, color='#84B4C8')\n",
    "\n",
    "ax.set_xlabel(\"Customer Acquisition Cost\",fontsize=16)\n",
    "ax.set_ylabel(\"Frequency\",fontsize=16)\n",
    "plt.tight_layout()\n",
    "\n",
    "plt.savefig(fname='CAC_hist', dpi=150)\n",
    "plt.show()"
   ]
  },
  {
   "cell_type": "code",
   "execution_count": 277,
   "metadata": {},
   "outputs": [
    {
     "data": {
      "image/png": "[encoded data removed]",
      "text/plain": [
       "<Figure size 648x432 with 1 Axes>"
      ]
     },
     "metadata": {
      "needs_background": "light"
     },
     "output_type": "display_data"
    }
   ],
   "source": [
    "# Histogram for distribution of initial cohort size\n",
    "fig, ax = plt.subplots(figsize=(9,6))\n",
    "sns.distplot(plot_df['CLTV'], kde=False, bins=30, color='#84B4C8')\n",
    "\n",
    "ax.set_xlabel(\"Customer Lifetime Value\",fontsize=16)\n",
    "ax.set_ylabel(\"Frequency\",fontsize=16)\n",
    "plt.tight_layout()\n",
    "\n",
    "plt.savefig(fname='CLTV_hist', dpi=150)\n",
    "plt.show()"
   ]
  },
  {
   "cell_type": "code",
   "execution_count": 278,
   "metadata": {},
   "outputs": [
    {
     "data": {
      "image/png": "[encoded data removed]",
      "text/plain": [
       "<Figure size 648x432 with 1 Axes>"
      ]
     },
     "metadata": {
      "needs_background": "light"
     },
     "output_type": "display_data"
    }
   ],
   "source": [
    "# Histogram for distribution of CLTV-CAC Spread\n",
    "fig, ax = plt.subplots(figsize=(9,6))\n",
    "sns.distplot(plot_df['Spread'], kde=False, bins=150, color='#84B4C8')\n",
    "plt.axvline(x=plot_df['Spread'].median(), color='red')\n",
    "plt.xlim(0, 700)\n",
    "\n",
    "ax.set_xlabel(\"CLTV - CAC Spread\",fontsize=16)\n",
    "ax.set_ylabel(\"Frequency\",fontsize=16)\n",
    "plt.tight_layout()\n",
    "\n",
    "plt.savefig(fname='spread_hist', dpi=150)\n",
    "plt.show()"
   ]
  },
  {
   "cell_type": "code",
   "execution_count": 279,
   "metadata": {},
   "outputs": [
    {
     "data": {
      "text/plain": [
       "1.0"
      ]
     },
     "execution_count": 279,
     "metadata": {},
     "output_type": "execute_result"
    }
   ],
   "source": [
    "sum(plot_df['Spread'] > plot_df['CAC'].median())/plot_df.shape[0]"
   ]
  },
  {
   "cell_type": "code",
   "execution_count": 280,
   "metadata": {},
   "outputs": [
    {
     "data": {
      "text/plain": [
       "169.95651665977206"
      ]
     },
     "execution_count": 280,
     "metadata": {},
     "output_type": "execute_result"
    }
   ],
   "source": [
    "np.median(plot_df['Spread'])"
   ]
  },
  {
   "cell_type": "code",
   "execution_count": 217,
   "metadata": {},
   "outputs": [
    {
     "data": {
      "text/plain": [
       "72.90757804686004"
      ]
     },
     "execution_count": 217,
     "metadata": {},
     "output_type": "execute_result"
    }
   ],
   "source": [
    "np.quantile(plot_df['CAC'], 0.95)"
   ]
  },
  {
   "cell_type": "code",
   "execution_count": 218,
   "metadata": {},
   "outputs": [
    {
     "data": {
      "text/plain": [
       "11.202235455623978"
      ]
     },
     "execution_count": 218,
     "metadata": {},
     "output_type": "execute_result"
    }
   ],
   "source": [
    "np.quantile(plot_df['CAC'], 0.05)"
   ]
  },
  {
   "cell_type": "code",
   "execution_count": null,
   "metadata": {},
   "outputs": [],
   "source": []
  }
 ],
 "metadata": {
  "kernelspec": {
   "display_name": "Python 3",
   "language": "python",
   "name": "python3"
  },
  "language_info": {
   "codemirror_mode": {
    "name": "ipython",
    "version": 3
   },
   "file_extension": ".py",
   "mimetype": "text/x-python",
   "name": "python",
   "nbconvert_exporter": "python",
   "pygments_lexer": "ipython3",
   "version": "3.7.3"
  },
  "varInspector": {
   "cols": {
    "lenName": 16,
    "lenType": 16,
    "lenVar": 40
   },
   "kernels_config": {
    "python": {
     "delete_cmd_postfix": "",
     "delete_cmd_prefix": "del ",
     "library": "var_list.py",
     "varRefreshCmd": "print(var_dic_list())"
    },
    "r": {
     "delete_cmd_postfix": ") ",
     "delete_cmd_prefix": "rm(",
     "library": "var_list.r",
     "varRefreshCmd": "cat(var_dic_list()) "
    }
   },
   "types_to_exclude": [
    "module",
    "function",
    "builtin_function_or_method",
    "instance",
    "_Feature"
   ],
   "window_display": false
  }
 },
 "nbformat": 4,
 "nbformat_minor": 2
}
